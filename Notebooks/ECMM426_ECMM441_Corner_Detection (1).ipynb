{
  "nbformat": 4,
  "nbformat_minor": 0,
  "metadata": {
    "colab": {
      "name": "ECMM426/ECMM441 - Corner Detection.ipynb",
      "provenance": []
    },
    "kernelspec": {
      "name": "python3",
      "display_name": "Python 3"
    }
  },
  "cells": [
    {
      "cell_type": "markdown",
      "metadata": {
        "id": "b3cZDcELRx4J"
      },
      "source": [
        "<H1 style=\"text-align: center\">ECMM426 - Computer Vision / ECMM441 - Machine Vision (Professional)</H1>\n",
        "<H1 style=\"text-align: center\"></H1>\n",
        "<H2 style=\"text-align: center\">Workshop 2</H2>\n",
        "<H2 style=\"text-align: center\">Corner Detection</H2>"
      ]
    },
    {
      "cell_type": "markdown",
      "metadata": {
        "id": "szCE5_XbWDuS"
      },
      "source": [
        "## Imports"
      ]
    },
    {
      "cell_type": "code",
      "metadata": {
        "id": "J9pE0N3qRwOt"
      },
      "source": [
        "import urllib\n",
        "import matplotlib, cv2\n",
        "import numpy as np\n",
        "import matplotlib.pyplot as plt\n",
        "plt.rcParams['figure.figsize'] = (20.0, 10.0)\n",
        "plt.rcParams['figure.dpi'] = 72\n",
        "\n",
        "print('OpenCV version: {}'.format(cv2.__version__))"
      ],
      "execution_count": null,
      "outputs": []
    },
    {
      "cell_type": "markdown",
      "metadata": {
        "id": "0KMakUW3Xx66"
      },
      "source": [
        "## Download Images\n",
        "Download chessboard image"
      ]
    },
    {
      "cell_type": "code",
      "metadata": {
        "id": "9Puj7AIVHLEa"
      },
      "source": [
        "import os\n",
        "if not os.path.exists('chessboard.zip'):\n",
        "  !wget --no-check-certificate https://empslocal.ex.ac.uk/people/staff/ad735/ECMM426/chessboard.zip\n",
        "  !unzip -q chessboard.zip"
      ],
      "execution_count": null,
      "outputs": []
    },
    {
      "cell_type": "markdown",
      "metadata": {
        "id": "FySO32-hymQS"
      },
      "source": [
        "## Read and show the image"
      ]
    },
    {
      "cell_type": "code",
      "metadata": {
        "id": "vpS6RcOV_p8Y"
      },
      "source": [
        "# read an image\n",
        "img = cv2.imread('chessboard.png')\n",
        "\n",
        "# convert image to grayscale\n",
        "gray_img = cv2.cvtColor(img, cv2.COLOR_BGR2GRAY).astype(np.float32)\n",
        "\n",
        "# show the image\n",
        "plt.imshow(gray_img, cmap='gray')"
      ],
      "execution_count": null,
      "outputs": []
    },
    {
      "cell_type": "markdown",
      "metadata": {
        "id": "UhPL8s_lFusu"
      },
      "source": [
        "## Add border to detect all the corners"
      ]
    },
    {
      "cell_type": "code",
      "metadata": {
        "id": "AgcVVLhQF0jr"
      },
      "source": [
        "gray_img = cv2.copyMakeBorder(gray_img.copy(), 10, 10, 10, 10, cv2.BORDER_CONSTANT, value=[0, 0, 0])\n",
        "# show the image\n",
        "plt.imshow(gray_img, cmap='gray')"
      ],
      "execution_count": null,
      "outputs": []
    },
    {
      "cell_type": "markdown",
      "metadata": {
        "id": "zv0RJ88yBBj8"
      },
      "source": [
        "## Harris corner detection\n",
        "We know that corners are regions in the image with large variation in intensity in all the directions. One early attempt to find these corners was done by **Chris Harris & Mike Stephens** in their paper **A Combined Corner and Edge Detector** in 1988, so now it is called the **Harris Corner Detector**. He took this simple idea to a mathematical form. It basically finds the difference in intensity for a displacement of (u,v) in all directions. This is expressed as below:\n",
        "\n",
        "$$E(u,v) = \\sum_{x,y} \\underbrace{w(x,y)}_\\text{window function} \\, [\\underbrace{I(x+u,y+v)}_\\text{shifted intensity}-\\underbrace{I(x,y)}_\\text{intensity}]^2$$\n",
        "\n",
        "The window function is either a rectangular window or a Gaussian window which gives weights to pixels underneath. For sake of simplicity we can consider:\n",
        "\n",
        "$$E(u,v) = \\sum_{x,y} [\\underbrace{I(x+u,y+v)}_\\text{shifted intensity}-\\underbrace{I(x,y)}_\\text{intensity}]^2$$\n",
        "\n",
        "We have to maximize this function $E(u,v)$ for corner detection. \n",
        "\n",
        "Taylor's series expansion\n",
        "\n",
        "$$f(x)=f(a+x-a)=\\sum_{n=0}^{\\infty} \\frac{f^{(n)}(a)}{n!}(x-a)^n=f(a)+\\frac{f^{(1)}(a)}{1!}(x-a)+\\frac{f^{(2)}(a)}{2!}(x-a)^2+\\ldots$$\n",
        "\n",
        "Applying Taylor's expansion to the above equation\n",
        "\n",
        "$$\\begin{align}\n",
        "I(x+u,y+v)&=I(x,y)+\\frac{\\partial I}{\\partial x}u+\\frac{\\partial I}{\\partial y}v+\\frac{\\partial^2 I}{\\partial x^2}u^2+\\frac{\\partial^2 I}{\\partial y^2}v^2+\\ldots\\\\\n",
        "&=I(x,y)+I_xu+I_yv+I_{xx}u^2+I_{yy}v^2+\\ldots\n",
        "\\end{align}$$\n",
        "\n",
        "Therefore,\n",
        "\n",
        "$$E(u,v) \\approx \\sum_{x,y}(I_xu+I_yv)^2 \\approx \\sum_{x,y}I_xI_xu^2+2\\sum_{x,y}I_xI_yuv+\\sum_{x,y}I_yI_yv^2$$\n",
        "\n",
        " and using some mathematical steps (please refer to any standard text books you like for full derivation), we get the final equation as:\n",
        "\n",
        "$$E(u,v) \\approx \\begin{bmatrix} u & v \\end{bmatrix} M \\begin{bmatrix} u \\\\ v \\end{bmatrix}$$\n",
        "\n",
        "where\n",
        "\n",
        "$$M = \\sum_{x,y} \\begin{bmatrix}I_x I_x & I_x I_y \\\\ I_x I_y & I_y I_y \\end{bmatrix}$$\n",
        "\n",
        "Here, $I_x$ and $I_y$ are image derivatives in x and y directions respectively."
      ]
    },
    {
      "cell_type": "markdown",
      "metadata": {
        "id": "9JCmosvXy_XR"
      },
      "source": [
        "## Image gradient"
      ]
    },
    {
      "cell_type": "code",
      "metadata": {
        "id": "LwAe1HYF3BZH"
      },
      "source": [
        "# construct the Sobel x-axis kernel\n",
        "sobelX = np.array(([-1, 0, 1], [-2, 0, 2], [-1, 0, 1]), dtype=np.float)\n",
        "# construct the Sobel y-axis kernel\n",
        "sobelY = np.array(([-1, -2, -1], [0, 0, 0], [1, 2, 1]), dtype=np.float)\n",
        "# convolution\n",
        "I_x = cv2.filter2D(gray_img, -1, sobelX)\n",
        "I_y = cv2.filter2D(gray_img, -1, sobelY)\n",
        "# plot\n",
        "plt.subplot(1,3,1),plt.imshow(gray_img, cmap = 'gray')\n",
        "plt.title('Original'), plt.xticks([]), plt.yticks([])\n",
        "plt.subplot(1,3,2),plt.imshow(I_x, cmap = 'gray')\n",
        "plt.title('$I_x$'), plt.xticks([]), plt.yticks([])\n",
        "plt.subplot(1,3,3),plt.imshow(I_y, cmap = 'gray')\n",
        "plt.title('$I_y$'), plt.xticks([]), plt.yticks([])\n",
        "plt.show()"
      ],
      "execution_count": null,
      "outputs": []
    },
    {
      "cell_type": "markdown",
      "metadata": {
        "id": "ArD_EF2DIqm0"
      },
      "source": [
        "## Gradient covariances"
      ]
    },
    {
      "cell_type": "code",
      "metadata": {
        "id": "jmwcVDR74sju"
      },
      "source": [
        "# Gradient covariance and light smoothing\n",
        "I_x_I_x = cv2.GaussianBlur(I_x*I_x, (3, 3), sigmaX=1, sigmaY=1)\n",
        "I_y_I_y = cv2.GaussianBlur(I_y*I_y, (3, 3), sigmaX=1, sigmaY=1)\n",
        "I_x_I_y = cv2.GaussianBlur(I_x*I_y, (3, 3), sigmaX=1, sigmaY=1)\n",
        "\n",
        "# plot\n",
        "plt.subplot(1,4,1),plt.imshow(gray_img, cmap = 'gray')\n",
        "plt.title('Original'), plt.xticks([]), plt.yticks([])\n",
        "plt.subplot(1,4,2),plt.imshow(I_x_I_x, cmap = 'gray')\n",
        "plt.title('$I_xI_x$'), plt.xticks([]), plt.yticks([])\n",
        "plt.subplot(1,4,3),plt.imshow(I_y_I_y, cmap = 'gray')\n",
        "plt.title('$I_yI_y$'), plt.xticks([]), plt.yticks([])\n",
        "plt.subplot(1,4,4),plt.imshow(I_x_I_y, cmap = 'gray')\n",
        "plt.title('$I_xI_y$'), plt.xticks([]), plt.yticks([])\n",
        "plt.show()"
      ],
      "execution_count": null,
      "outputs": []
    },
    {
      "cell_type": "markdown",
      "metadata": {
        "id": "faKHVRRC5A1r"
      },
      "source": [
        "## Harris response calculation\n",
        "\n",
        "Then comes the main part. After this, they created a score, basically an equation, which determines if a window can contain a corner or not.\n",
        "\n",
        "$$R = \\text{det}(M) - k(\\text{trace}(M))^2$$\n",
        "\n",
        "where\n",
        "* $\\text{det}(M) = \\lambda_1 \\lambda_2$\n",
        "* $\\text{trace}(M) = \\lambda_1 + \\lambda_2$\n",
        "* $\\lambda_1$ and $\\lambda_2$ are the eigenvalues of $M$"
      ]
    },
    {
      "cell_type": "code",
      "metadata": {
        "id": "aasOI_ob5C2O"
      },
      "source": [
        "k = 0.05\n",
        "# determinant\n",
        "detA = I_x_I_x * I_y_I_y - I_x_I_y ** 2\n",
        "# trace\n",
        "traceA = I_x_I_x + I_y_I_y\n",
        "R = detA - k * traceA ** 2"
      ],
      "execution_count": null,
      "outputs": []
    },
    {
      "cell_type": "markdown",
      "metadata": {
        "id": "IteDzPnN5oY7"
      },
      "source": [
        "## Find corners using R > 0"
      ]
    },
    {
      "cell_type": "code",
      "metadata": {
        "id": "hz-30ED5-w5V"
      },
      "source": [
        "y, x = np.where(R > 0)\n",
        "plt.figure()\n",
        "plt.imshow(gray_img, cmap='gray')\n",
        "plt.scatter(x, y, c='r', s=40)\n",
        "plt.show()"
      ],
      "execution_count": null,
      "outputs": []
    },
    {
      "cell_type": "markdown",
      "metadata": {
        "id": "fw6vvUTfEmdc"
      },
      "source": [
        "##Find edges using R < 0"
      ]
    },
    {
      "cell_type": "code",
      "metadata": {
        "id": "4DlaY9i3Esio"
      },
      "source": [
        "y, x = np.where(R < 0)\n",
        "plt.figure()\n",
        "plt.imshow(gray_img, cmap='gray')\n",
        "plt.scatter(x, y, c='r', s=10)\n",
        "plt.show()"
      ],
      "execution_count": null,
      "outputs": []
    },
    {
      "cell_type": "markdown",
      "metadata": {
        "id": "CU4Hhy7QE5_S"
      },
      "source": [
        "## Find flat regions using R = 0"
      ]
    },
    {
      "cell_type": "code",
      "metadata": {
        "id": "-TlIhv0OE_ZN"
      },
      "source": [
        "y, x = np.where(R == 0)\n",
        "plt.figure()\n",
        "plt.imshow(gray_img, cmap='gray')\n",
        "plt.scatter(x, y, c='r', s=1)\n",
        "plt.show()"
      ],
      "execution_count": null,
      "outputs": []
    },
    {
      "cell_type": "markdown",
      "metadata": {
        "id": "_dcEifIJTM3a"
      },
      "source": [
        "## Non-maximum suppression"
      ]
    },
    {
      "cell_type": "code",
      "metadata": {
        "id": "wJ9HFqAPTBRG"
      },
      "source": [
        "from skimage.feature import corner_peaks\n",
        "# non-maximal suppression\n",
        "corners = corner_peaks(R)\n",
        "x, y = corners[:, 1], corners[:, 0]\n",
        "plt.figure()\n",
        "plt.imshow(gray_img, cmap='gray')\n",
        "plt.scatter(x, y, c='r', s=40)\n",
        "plt.show()"
      ],
      "execution_count": null,
      "outputs": []
    },
    {
      "cell_type": "markdown",
      "metadata": {
        "id": "uYbDdCSoGy1a"
      },
      "source": [
        "## `HarrisCorner` function"
      ]
    },
    {
      "cell_type": "code",
      "metadata": {
        "id": "5_Llv4pDGzik"
      },
      "source": [
        "from skimage.feature import corner_peaks\n",
        "def HarrisCorner(img, ksize=5, sigmaX=2, sigmaY=2, k=0.05, non_max_suppr=True):\n",
        "  # convert image to grayscale\n",
        "  gray_img = cv2.cvtColor(img, cv2.COLOR_BGR2GRAY).astype(np.float32)\n",
        "  # light Gaussian smoothing\n",
        "  gray_img = cv2.GaussianBlur(gray_img, (ksize, ksize), sigmaX=sigmaX, sigmaY=sigmaY)\n",
        "  # construct the Sobel x-axis kernel\n",
        "  sobelX = np.array(([-1, 0, 1], [-2, 0, 2], [-1, 0, 1]), dtype=np.float)\n",
        "  # construct the Sobel y-axis kernel\n",
        "  sobelY = np.array(([-1, -2, -1], [0, 0, 0], [1, 2, 1]), dtype=np.float)\n",
        "  # convolution\n",
        "  I_x = cv2.filter2D(gray_img, -1, sobelX)\n",
        "  I_y = cv2.filter2D(gray_img, -1, sobelY)\n",
        "  # gradient covariances and light Gaussian smoothing\n",
        "  I_x_I_x = cv2.GaussianBlur(I_x*I_x, (ksize, ksize), sigmaX=sigmaX, sigmaY=sigmaY)\n",
        "  I_y_I_y = cv2.GaussianBlur(I_y*I_y, (ksize, ksize), sigmaX=sigmaX, sigmaY=sigmaY)\n",
        "  I_x_I_y = cv2.GaussianBlur(I_x*I_y, (ksize, ksize), sigmaX=sigmaX, sigmaY=sigmaY)\n",
        "  # determinant\n",
        "  detA = I_x_I_x * I_y_I_y - I_x_I_y ** 2\n",
        "  # trace\n",
        "  traceA = I_x_I_x + I_y_I_y\n",
        "  # Harris criteria\n",
        "  R = detA - k * traceA ** 2\n",
        "  if non_max_suppr:\n",
        "    corners = corner_peaks(R)\n",
        "    x, y = corners[:, 1], corners[:, 0]\n",
        "  else:\n",
        "    y, x = np.where(R > 0)\n",
        "  return (x, y)"
      ],
      "execution_count": null,
      "outputs": []
    },
    {
      "cell_type": "markdown",
      "metadata": {
        "id": "jEgNaBOOJh42"
      },
      "source": [
        "## Download some other images"
      ]
    },
    {
      "cell_type": "code",
      "metadata": {
        "id": "t-JKMrK3Jh5A"
      },
      "source": [
        "import os\n",
        "if not os.path.exists('images.zip'):\n",
        "  !wget --no-check-certificate https://empslocal.ex.ac.uk/people/staff/ad735/ECMM426/images.zip\n",
        "  !unzip -q images.zip"
      ],
      "execution_count": null,
      "outputs": []
    },
    {
      "cell_type": "markdown",
      "metadata": {
        "id": "s3A3nZA7Jyaz"
      },
      "source": [
        "## Apply on the other images"
      ]
    },
    {
      "cell_type": "code",
      "metadata": {
        "id": "TWSpZUbjJ2Xw"
      },
      "source": [
        "img = cv2.imread('images/books.jpg')\n",
        "x, y = HarrisCorner(img, sigmaX=3, sigmaY=3, k=0.1)\n",
        "x_, y_ = HarrisCorner(img, sigmaX=3, sigmaY=3, k=0.1, non_max_suppr=False)\n",
        "# plot\n",
        "plt.subplot(1, 3, 1), plt.imshow(img)\n",
        "plt.title('Original'), plt.xticks([]), plt.yticks([])\n",
        "plt.subplot(1, 3, 2), plt.imshow(img)\n",
        "plt.scatter(x, y, c='r', s=40)\n",
        "plt.title('Corners with nonmax suppression'), plt.xticks([]), plt.yticks([])\n",
        "plt.subplot(1, 3, 3), plt.imshow(img)\n",
        "plt.scatter(x_, y_, c='r', s=40)\n",
        "plt.title('Corners without nonmax suppression'), plt.xticks([]), plt.yticks([])\n",
        "plt.show()"
      ],
      "execution_count": null,
      "outputs": []
    },
    {
      "cell_type": "code",
      "metadata": {
        "id": "bxCy430TLwzO"
      },
      "source": [
        "img = cv2.imread('images/piet.png')\n",
        "x, y = HarrisCorner(img, sigmaX=3, sigmaY=3, k=0.1)\n",
        "x_, y_ = HarrisCorner(img, sigmaX=3, sigmaY=3, k=0.1, non_max_suppr=False)\n",
        "# plot\n",
        "plt.subplot(1, 3, 1), plt.imshow(img)\n",
        "plt.title('Original'), plt.xticks([]), plt.yticks([])\n",
        "plt.subplot(1, 3, 2), plt.imshow(img)\n",
        "plt.scatter(x, y, c='r', s=40)\n",
        "plt.title('Corners with nonmax suppression'), plt.xticks([]), plt.yticks([])\n",
        "plt.subplot(1, 3, 3), plt.imshow(img)\n",
        "plt.scatter(x_, y_, c='r', s=40)\n",
        "plt.title('Corners without nonmax suppression'), plt.xticks([]), plt.yticks([])\n",
        "plt.show()"
      ],
      "execution_count": null,
      "outputs": []
    },
    {
      "cell_type": "markdown",
      "metadata": {
        "id": "13i43-Ku8oHP"
      },
      "source": [
        "## Qualitative comparison with OpenCV implementation\n",
        "Note the difference between the plotting of our implementation and OpenCV implementation"
      ]
    },
    {
      "cell_type": "code",
      "metadata": {
        "id": "sv3TMjW08SZr"
      },
      "source": [
        "img = cv2.imread('images/books.jpg')\n",
        "img_cv = img.copy()\n",
        "x, y = HarrisCorner(img, ksize=3, sigmaX=3, sigmaY=3, k=0.01)\n",
        "dst = cv2.cornerHarris(np.float32(cv2.cvtColor(img, cv2.COLOR_BGR2GRAY)), 3, 3, 0.1)\n",
        "# Results are marked through the dilated corners \n",
        "dst = cv2.dilate(dst, None, iterations = 3) \n",
        "# Reverting back to the original image, with optimal threshold value \n",
        "img_cv[dst > 0.01 * dst.max()] = [255, 0, 0]\n",
        "# plot\n",
        "plt.subplot(1, 3, 1), plt.imshow(img)\n",
        "plt.title('Original'), plt.xticks([]), plt.yticks([])\n",
        "plt.subplot(1, 3, 2), plt.imshow(img)\n",
        "plt.scatter(x, y, c='r', s=40)\n",
        "plt.title('Corners (our implementation)'), plt.xticks([]), plt.yticks([])\n",
        "plt.subplot(1, 3, 3), plt.imshow(img_cv)\n",
        "plt.title('Corners (opencv implementation)'), plt.xticks([]), plt.yticks([])\n",
        "plt.show()"
      ],
      "execution_count": null,
      "outputs": []
    },
    {
      "cell_type": "code",
      "metadata": {
        "id": "vpUQMZgX34KN"
      },
      "source": [
        "img = cv2.imread('images/piet.png')\n",
        "img_cv = img.copy()\n",
        "x, y = HarrisCorner(img, ksize=3, sigmaX=3, sigmaY=3, k=0.1)\n",
        "dst = cv2.cornerHarris(np.float32(cv2.cvtColor(img, cv2.COLOR_BGR2GRAY)), 2, 3, 0.1)\n",
        "# Results are marked through the dilated corners \n",
        "dst = cv2.dilate(dst, None, iterations = 10) \n",
        "# Reverting back to the original image, with optimal threshold value \n",
        "img_cv[dst > 0.01 * dst.max()] = [255, 0, 0]\n",
        "# plot\n",
        "plt.subplot(1, 3, 1), plt.imshow(img)\n",
        "plt.title('Original'), plt.xticks([]), plt.yticks([])\n",
        "plt.subplot(1, 3, 2), plt.imshow(img)\n",
        "plt.scatter(x, y, c='r', s=40)\n",
        "plt.title('Corners (our implementation)'), plt.xticks([]), plt.yticks([])\n",
        "plt.subplot(1, 3, 3), plt.imshow(img_cv)\n",
        "plt.title('Corners (opencv implementation)'), plt.xticks([]), plt.yticks([])\n",
        "plt.show()"
      ],
      "execution_count": null,
      "outputs": []
    }
  ]
}