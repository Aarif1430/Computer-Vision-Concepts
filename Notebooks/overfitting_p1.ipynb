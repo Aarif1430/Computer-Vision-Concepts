{
 "cells": [
  {
   "cell_type": "markdown",
   "metadata": {
    "slideshow": {
     "slide_type": "slide"
    }
   },
   "source": [
    "# Classifier Overfitting (part 1)\n",
    "\n",
    "**Aim:** Understand the notion of overfitting.\n",
    "\n",
    "In this first part we are going to develop only the functions to manipulate the dataset.\n",
    "\n",
    "In the subsequent part we are going to build the classifiers that operate over the datasets that we have generated here. \n",
    "\n",
    "Here we are building the functions needed to acquire the data and to add noise to make the task progressively  more difficult in a controlled way. "
   ]
  },
  {
   "cell_type": "code",
   "execution_count": 116,
   "metadata": {
    "slideshow": {
     "slide_type": "slide"
    }
   },
   "outputs": [],
   "source": [
    "%matplotlib inline\n",
    "import matplotlib.pyplot as plt\n",
    "from sklearn.datasets import load_digits\n",
    "import numpy as np\n",
    "import scipy as sp"
   ]
  },
  {
   "cell_type": "code",
   "execution_count": 117,
   "metadata": {},
   "outputs": [],
   "source": [
    "import warnings\n",
    "warnings.filterwarnings('ignore')"
   ]
  },
  {
   "cell_type": "markdown",
   "metadata": {
    "slideshow": {
     "slide_type": "slide"
    }
   },
   "source": [
    "## Question 1\n",
    "\n",
    "a) Make a function `X,y = get_digits_data(digit_list=None)` that retreives the scikit [digits dataset](https://scikit-learn.org/stable/modules/generated/sklearn.datasets.load_digits.html). The function should return a data matrix `X` (with instances as rows) and a target vector `y`. The function should accept in input a list containing an arbitrary number of digits of interest: e.g. if one is interested in discriminating between the digits `7` and `9` then one should pass `digit_list=[7,9]`, if the digits of interest are `8,4,5,0` then `digit_list=[8,4,5,0]`, etc.\n",
    "\n",
    "b) Make a function `plot_digit(x, shape=(8,8))` to represent a single instance vector `x` as a 2D array with shape `shape`. Use an inverted gray scale color map.\n",
    "\n",
    "c) Make a function `plot_digits(X,y, shape=(8,8), n_images_per_row=5)` to arrange the 2D array representations of the instances in `X` in a grid with `n_images_per_row` columns. Each representation should have as a title the corresponding target."
   ]
  },
  {
   "cell_type": "code",
   "execution_count": 214,
   "metadata": {
    "slideshow": {
     "slide_type": "slide"
    }
   },
   "outputs": [],
   "source": [
    "def get_digits_data(digit_list=None):\n",
    "    X,y = load_digits(return_X_y=True)\n",
    "    if digit_list is None:\n",
    "        return X,y\n",
    "    masks = [y == x for x in digit_list]\n",
    "    new_X = np.vstack(X[mask] for mask in masks)\n",
    "    new_y = np.hstack(y[mask] for mask in masks)\n",
    "    return new_X, new_y\n",
    "    \n",
    "def plot_digit(x, shape):\n",
    "    plt.figure(figsize=(2,2))\n",
    "    img = x.reshape(*shape)\n",
    "    plt.imshow(img, cmap='gray_r')\n",
    "    plt.axis(False)\n",
    "    plt.show()\n",
    "\n",
    "    \n",
    "def plot_digits(X,y,shape, n_images_per_row=5):\n",
    "    fig, axes = plt.subplots(3,5, figsize=(8,8))\n",
    "    for i,ax in enumerate(axes.flat):\n",
    "        ax.imshow(X[i].reshape(*shape), cmap='gray_r')\n",
    "        ax.set_title(y[i], fontdict={'fontsize': 12, 'fontweight': 'medium', 'color':'white'})\n",
    "        ax.set_axis_off()\n",
    "    fig.tight_layout() \n",
    "    plt.show()\n",
    "        "
   ]
  },
  {
   "cell_type": "code",
   "execution_count": 215,
   "metadata": {},
   "outputs": [
    {
     "data": {
      "image/png": "[encoded data removed]",
      "text/plain": [
       "<Figure size 576x576 with 15 Axes>"
      ]
     },
     "metadata": {
      "needs_background": "light"
     },
     "output_type": "display_data"
    }
   ],
   "source": [
    "X,y = get_digits_data([2,3])\n",
    "# plot_digit(X[1], (8,8))\n",
    "plot_digits(X,y, (8,8))\n"
   ]
  },
  {
   "cell_type": "markdown",
   "metadata": {
    "slideshow": {
     "slide_type": "slide"
    }
   },
   "source": [
    "## Question 2\n",
    "\n",
    "a) Make a function `X = add_input_noise(X, amount)` that returns a copy of the input data matrix `X` where a random real value in the interval `(-amount, amount)` has been added to each feature.\n",
    "\n",
    "b) Make a function `y = add_target_noise(y, amount)` that returns a copy of the input target vector `y` where a fraction of `amount` elements have been swapped: amount=0.2 means 20% of the elements have been swapped. For example if `y = [0,1,2,3,4,5,6,7,8,9]` then `add_target_noise(y, amount=0.1)` could yield `[0,1,9,3,4,5,6,7,8,2]`.\n",
    "\n",
    "c) Make a function `X,y = sample(X,y,n_samples)` that returns a random sample of `n_samples` instances in `X` and the corresponding `y`. The sample is obtained without replacement (i.e. an instance cannot be returned more than one time).  "
   ]
  },
  {
   "cell_type": "code",
   "execution_count": 278,
   "metadata": {},
   "outputs": [],
   "source": [
    "def add_input_noise(X, amount):\n",
    "    noise = np.random.uniform(-amount, amount)\n",
    "    return X+noise\n",
    "\n",
    "def add_target_noise(y, amount):\n",
    "    n = int(len(y)*a)\n",
    "    for _ in range(n):\n",
    "        i = np.random.randint(len(y))\n",
    "        j = np.random.randint(len(y))\n",
    "        y[i], y[j] = y[j], y[i]\n",
    "    return y\n",
    "    \n",
    "def sample(X,y,n_samples):\n",
    "    indices = [np.random.randint(len(X)) for _ in range(n_samples)]\n",
    "    return X[indices], y[indices]\n",
    "    "
   ]
  },
  {
   "cell_type": "code",
   "execution_count": 277,
   "metadata": {},
   "outputs": [
    {
     "name": "stdout",
     "output_type": "stream",
     "text": [
      "[0, 2]\n",
      "[[0.5507979  0.70814782 0.29090474 0.51082761]\n",
      " [0.89294695 0.89629309 0.12558531 0.20724288]\n",
      " [0.0514672  0.44080984 0.02987621 0.45683322]]\n",
      "[[0.5507979  0.70814782 0.29090474 0.51082761]\n",
      " [0.0514672  0.44080984 0.02987621 0.45683322]]\n"
     ]
    }
   ],
   "source": [
    "l = [np.random.randint(3) for _ in range(2)]\n",
    "print(l)\n",
    "np.random.seed(3)\n",
    "a = np.random.random((3,4))\n",
    "print(a)\n",
    "print(a[l])"
   ]
  },
  {
   "cell_type": "code",
   "execution_count": 249,
   "metadata": {},
   "outputs": [
    {
     "data": {
      "text/plain": [
       "[0, 1, 2]"
      ]
     },
     "execution_count": 249,
     "metadata": {},
     "output_type": "execute_result"
    }
   ],
   "source": [
    "list(range(3))"
   ]
  },
  {
   "cell_type": "markdown",
   "metadata": {},
   "source": [
    "## Usage examples\n",
    "\n",
    "The following cells show some examples of how you might use the requested functions. These examples are not available in the Assessment. In the Assessment you are to test your implementations on a **separate** notebook.\n",
    "\n",
    "**Do not** add or remove cells in the Assessment notebook.\n",
    "\n",
    "In the Assessment notebook you need to write **only** the function implementation, i.e. you need to replace \n",
    "\n",
    "```python\n",
    "def function_name(input_var):\n",
    "    # YOUR CODE HERE\n",
    "    raise NotImplementedError() \n",
    "```\n",
    "\n",
    "with\n",
    "\n",
    "```python\n",
    "def function_name(input_var):\n",
    "    result = input_var * 2\n",
    "    return result\n",
    "```\n",
    "\n",
    "**do not** write things like:\n",
    "\n",
    "```python\n",
    "def function_name(input_var):\n",
    "    result = input_var * 2\n",
    "    return result\n",
    "    raise NotImplementedError() \n",
    "```\n",
    "or\n",
    "```python\n",
    "def function_name(input_var):\n",
    "    result = input_var * 2\n",
    "    raise NotImplementedError() \n",
    "    return result\n",
    "```"
   ]
  },
  {
   "cell_type": "code",
   "execution_count": 253,
   "metadata": {},
   "outputs": [
    {
     "name": "stdout",
     "output_type": "stream",
     "text": [
      "#instances:722 #features:64\n",
      "#classes:4\n"
     ]
    }
   ],
   "source": [
    "X,y = get_digits_data(digit_list=[5,6,7,9])\n",
    "print('#instances:%d #features:%d'%(X.shape[0], X.shape[1]))\n",
    "print('#classes:%d'%(len(set(y))))"
   ]
  },
  {
   "cell_type": "code",
   "execution_count": 254,
   "metadata": {},
   "outputs": [
    {
     "data": {
      "image/png": "[encoded data removed]",
      "text/plain": [
       "<Figure size 144x144 with 1 Axes>"
      ]
     },
     "metadata": {
      "needs_background": "light"
     },
     "output_type": "display_data"
    }
   ],
   "source": [
    "#display one digit\n",
    "plot_digit(X[0], shape=(8,8))"
   ]
  },
  {
   "cell_type": "code",
   "execution_count": 255,
   "metadata": {},
   "outputs": [
    {
     "data": {
      "image/png": "[encoded data removed]",
      "text/plain": [
       "<Figure size 576x576 with 15 Axes>"
      ]
     },
     "metadata": {
      "needs_background": "light"
     },
     "output_type": "display_data"
    }
   ],
   "source": [
    "#plot sample digits with associated targets\n",
    "plot_digits(X[:60],y[:60], shape=(8,8), n_images_per_row=15)"
   ]
  },
  {
   "cell_type": "code",
   "execution_count": 263,
   "metadata": {},
   "outputs": [
    {
     "data": {
      "image/png": "[encoded data removed]",
      "text/plain": [
       "<Figure size 144x144 with 1 Axes>"
      ]
     },
     "metadata": {
      "needs_background": "light"
     },
     "output_type": "display_data"
    }
   ],
   "source": [
    "#perturb input\n",
    "X = add_input_noise(X, amount=10)\n",
    "plot_digit(X[0], shape=(8,8))"
   ]
  },
  {
   "cell_type": "code",
   "execution_count": 267,
   "metadata": {},
   "outputs": [
    {
     "name": "stdout",
     "output_type": "stream",
     "text": [
      "Original targets\n",
      "[9 9 5 5 5 7 5 5 5 5 9 5 5 5 7 5 6 7 6 9]\n",
      "Noisy targets\n",
      "[9 9 6 5 5 7 6 5 5 5 9 5 5 5 7 5 9 7 6 5]\n"
     ]
    }
   ],
   "source": [
    "#perturb targets\n",
    "print('Original targets')\n",
    "print(y[:20])\n",
    "y = add_target_noise(y, amount=.6)\n",
    "print('Noisy targets')\n",
    "print(y[:20])"
   ]
  },
  {
   "cell_type": "code",
   "execution_count": 279,
   "metadata": {},
   "outputs": [
    {
     "name": "stdout",
     "output_type": "stream",
     "text": [
      "Original #instances:722\n",
      "Sampled #instances:500\n"
     ]
    }
   ],
   "source": [
    "print('Original #instances:%d'%(X.shape[0]))\n",
    "X,y = sample(X,y,n_samples=500)\n",
    "print('Sampled #instances:%d'%(X.shape[0]))"
   ]
  },
  {
   "cell_type": "code",
   "execution_count": 987,
   "metadata": {},
   "outputs": [
    {
     "data": {
      "image/png": "[encoded data removed]",
      "text/plain": [
       "<Figure size 1080x288 with 60 Axes>"
      ]
     },
     "metadata": {
      "needs_background": "light"
     },
     "output_type": "display_data"
    }
   ],
   "source": [
    "#plot sample digits with associated targets\n",
    "plot_digits(X[:60],y[:60], shape=(8,8), n_images_per_row=15)"
   ]
  },
  {
   "cell_type": "markdown",
   "metadata": {},
   "source": [
    "## Unit Tests\n",
    "\n",
    "In the following you can see examples of unit tests for the functions that you have been asked to make.\n",
    "\n",
    "In the Assignment, each test is associated to a number of marks. Passing the test awards the marks. Not passing the test awards 0 marks. This mechanism is not implemented in the workshop notebooks.\n",
    "\n",
    "In the Assignment the tests are not visible, instead you will see a cell that only contains the comment\n",
    "```python\n",
    "# This cell is reserved for the unit tests. Do not consider this cell. \n",
    "```\n",
    "\n",
    "Before looking into the solutions, check that your own implementation passes all the tests, i.e. check that no exception is raised when you execute the test cells."
   ]
  },
  {
   "cell_type": "code",
   "execution_count": 988,
   "metadata": {},
   "outputs": [],
   "source": [
    "# This cell is reserved for the unit tests. Do not consider this cell. \n",
    "### BEGIN TESTS \n",
    "X_test,y_test = get_digits_data(digit_list=[0,3])\n",
    "assert X_test.shape[1] == 64, 'Expected instances with 64 features' \n",
    "assert len(set(y_test)) == 2, 'Expected 2 classes'\n",
    "### END TESTS"
   ]
  },
  {
   "cell_type": "code",
   "execution_count": 989,
   "metadata": {},
   "outputs": [
    {
     "data": {
      "image/png": "[encoded data removed]",
      "text/plain": [
       "<Figure size 144x144 with 1 Axes>"
      ]
     },
     "metadata": {
      "needs_background": "light"
     },
     "output_type": "display_data"
    },
    {
     "data": {
      "text/plain": [
       "<Figure size 144x144 with 0 Axes>"
      ]
     },
     "metadata": {},
     "output_type": "display_data"
    }
   ],
   "source": [
    "# This cell is reserved for the unit tests. Do not consider this cell. \n",
    "### BEGIN TESTS \n",
    "X_test,y_test = get_digits_data(digit_list=[0,3])\n",
    "try:\n",
    "    plot_digit(X_test[0], shape=(8,8))\n",
    "except Exception:\n",
    "    assert False, 'the function should not raise an exception when asked to plot a 8x8 image'\n",
    "else:\n",
    "    pass\n",
    "try:\n",
    "    plot_digit(X_test[0], shape=(8,9))\n",
    "except Exception:\n",
    "    pass\n",
    "else:\n",
    "    assert False, 'the function should raise an exception when asked to plot a 8x9 image'\n",
    "### END TESTS"
   ]
  },
  {
   "cell_type": "code",
   "execution_count": 993,
   "metadata": {},
   "outputs": [
    {
     "data": {
      "image/png": "[encoded data removed]",
      "text/plain": [
       "<Figure size 1440x144 with 40 Axes>"
      ]
     },
     "metadata": {
      "needs_background": "light"
     },
     "output_type": "display_data"
    }
   ],
   "source": [
    "# This cell is reserved for the unit tests. Do not consider this cell. \n",
    "### BEGIN TESTS \n",
    "np.random.seed(0)\n",
    "n=40\n",
    "Xp = np.random.rand(n,36)\n",
    "yp = np.random.randint(2, size=n)\n",
    "try:\n",
    "    plot_digits(Xp,yp, shape=(6,6), n_images_per_row=20)\n",
    "except Exception:\n",
    "    assert False, 'the function should not raise an exception when asked to plot a 6x6 image with n_images_per_row=20'\n",
    "else:\n",
    "    pass\n",
    "### END TESTS"
   ]
  },
  {
   "cell_type": "code",
   "execution_count": 990,
   "metadata": {},
   "outputs": [],
   "source": [
    "# This cell is reserved for the unit tests. Do not consider this cell. \n",
    "### BEGIN TESTS \n",
    "np.random.seed(0)\n",
    "M = np.zeros((1000,10))\n",
    "M = add_input_noise(M, amount=10)\n",
    "assert np.fabs(np.mean(M)) < 0.1, 'The mean of the addd noise is not < 0.1'\n",
    "assert 4 < np.std(M) < 6, 'The std of the addd noise is not in the interval [4,6]'\n",
    "### END TESTS"
   ]
  },
  {
   "cell_type": "code",
   "execution_count": 991,
   "metadata": {},
   "outputs": [],
   "source": [
    "# This cell is reserved for the unit tests. Do not consider this cell. \n",
    "### BEGIN TESTS \n",
    "np.random.seed(0)\n",
    "y_test = np.arange(10)\n",
    "y_test = add_target_noise(y_test, amount=0)\n",
    "assert np.all(y_test == np.arange(10)), 'Adding a 0 amount of noise should yield the input'\n",
    "y_test = np.arange(100)\n",
    "y_test_p = add_target_noise(y_test, amount=.1)\n",
    "assert 60 < np.sum(y_test_p == y_test) < 90, 'The number of elements that have not been altered should be inb the interval [60,90]'\n",
    "### END TESTS"
   ]
  },
  {
   "cell_type": "code",
   "execution_count": 992,
   "metadata": {},
   "outputs": [],
   "source": [
    "# This cell is reserved for the unit tests. Do not consider this cell. \n",
    "### BEGIN TESTS \n",
    "np.random.seed(0)\n",
    "Xp = np.random.rand(1000,10)\n",
    "yp = np.random.randint(2, size=1000)\n",
    "Xp,yp = sample(Xp,yp,n_samples=500)\n",
    "assert Xp.shape == (500,10), 'Expected shape of (500,10)'\n",
    "### END TESTS"
   ]
  },
  {
   "cell_type": "markdown",
   "metadata": {
    "slideshow": {
     "slide_type": "slide"
    }
   },
   "source": [
    "## Solution\n",
    "Look here only after you have made a serious attempt at answering the question."
   ]
  },
  {
   "cell_type": "code",
   "execution_count": 994,
   "metadata": {},
   "outputs": [],
   "source": [
    "import sklearn.datasets\n",
    "\n",
    "def get_digits_data(digit_list=None):\n",
    "    X,y = sklearn.datasets.load_digits(n_class=10, return_X_y=True)\n",
    "    if digit_list is None:\n",
    "        return X,y\n",
    "    X_sel = np.vstack([X[y==t]for t in digit_list])\n",
    "    y_sel = y.copy()\n",
    "    y_sel = np.hstack([y_sel[y==t]for t in digit_list])\n",
    "    return X_sel,y_sel\n",
    "\n",
    "def plot_digit(x, shape):\n",
    "    plt.figure(figsize=(2,2))\n",
    "    img = x.reshape(*shape)\n",
    "    plt.imshow(img, cmap='gray_r')\n",
    "    plt.axis(False)\n",
    "    plt.show()\n",
    "    \n",
    "def plot_digits(X,y, shape, n_images_per_row=5):\n",
    "    n = X.shape[0]\n",
    "    size = 1\n",
    "    n_rows = int(np.ceil(n/n_images_per_row))\n",
    "    fig, axs = plt.subplots(n_rows, n_images_per_row, figsize=(size*n_images_per_row,size*n_rows))\n",
    "    for i, (x, t) in enumerate(zip(X,y)): \n",
    "        img = x.reshape(*shape)\n",
    "        col_index = i % n_images_per_row\n",
    "        row_index = i // n_images_per_row\n",
    "        axs[row_index, col_index].imshow(img, cmap='gray_r')\n",
    "        axs[row_index, col_index].set_title(t)\n",
    "        axs[row_index, col_index].set_axis_off() \n",
    "    fig.tight_layout() \n",
    "    plt.show()"
   ]
  },
  {
   "cell_type": "code",
   "execution_count": 995,
   "metadata": {},
   "outputs": [],
   "source": [
    "def add_input_noise(X, amount=16):\n",
    "    return X + (np.random.rand(*X.shape)*2*amount - amount)\n",
    "\n",
    "def add_target_noise(y, amount=.5):\n",
    "    n = int(len(y)*amount)\n",
    "    ids = np.random.randint(len(y),size=(2,n))\n",
    "    y_p = y.copy()\n",
    "    y_p[ids[0]]=y[ids[1]]\n",
    "    y_p[ids[1]]=y[ids[0]]\n",
    "    return y_p\n",
    "\n",
    "def sample(X,y,n_samples):\n",
    "    n = X.shape[0]\n",
    "    assert n_samples < n\n",
    "    ids = np.random.permutation(n)[:n_samples]\n",
    "    return X[ids],y[ids]"
   ]
  },
  {
   "cell_type": "markdown",
   "metadata": {},
   "source": [
    "---"
   ]
  }
 ],
 "metadata": {
  "kernelspec": {
   "display_name": "Python 3",
   "language": "python",
   "name": "python3"
  },
  "language_info": {
   "codemirror_mode": {
    "name": "ipython",
    "version": 3
   },
   "file_extension": ".py",
   "mimetype": "text/x-python",
   "name": "python",
   "nbconvert_exporter": "python",
   "pygments_lexer": "ipython3",
   "version": "3.7.0"
  }
 },
 "nbformat": 4,
 "nbformat_minor": 4
}
